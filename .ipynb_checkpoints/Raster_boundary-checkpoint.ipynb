{
 "cells": [
  {
   "cell_type": "markdown",
   "metadata": {
    "collapsed": true
   },
   "source": [
    "This is part of a training course on intermediate Geospatial Programming with Python with a focus on Raster and Earth Observation Data. If you would like to know more please visit www.acgeospatial.co.uk/training or email info@acgeospatial.co.uk "
   ]
  },
  {
   "cell_type": "code",
   "execution_count": 1,
   "metadata": {},
   "outputs": [],
   "source": [
    "#!/usr/bin/python\n",
    "# -*- coding: utf-8 -*-\n",
    "## Written by Andrew Cutts\n",
    "## I am indebted to code from the GDAL OGR Cookbook\n",
    "## https://pcjericks.github.io/py-gdalogr-cookbook/\n",
    "\n",
    "\n",
    "## first up lets import all the python libraries we need\n",
    "from osgeo import gdal,osr,ogr\n",
    "import os"
   ]
  },
  {
   "cell_type": "markdown",
   "metadata": {},
   "source": [
    "We will build two helper functions, firstly to build the boundary of a raster file. Typically this would be a satellite image but it does not have to be"
   ]
  },
  {
   "cell_type": "code",
   "execution_count": 2,
   "metadata": {},
   "outputs": [],
   "source": [
    "def build_bounds(coords, srs, name):\n",
    "    ## Function to build geojson polygon from ordered coordinate set, projection and output name\n",
    "    ####\n",
    "    print (\"creating poly\")\n",
    "    # Create ring\n",
    "    ring = ogr.Geometry(ogr.wkbLinearRing)\n",
    "    for i in range (0,len(coords)):\n",
    "        ring.AddPoint(coords[i][0], coords[i][1])\n",
    "    \n",
    "    ring.AddPoint(coords[0][0], coords[0][1]) ## close the poly\n",
    "    \n",
    "    \n",
    "    # Create polygon\n",
    "    poly = ogr.Geometry(ogr.wkbPolygon)\n",
    "    poly.AddGeometry(ring)\n",
    "\n",
    "\n",
    "    # Create the output Driver\n",
    "    outDriver = ogr.GetDriverByName('GeoJSON')\n",
    "\n",
    "    # Create the output GeoJSON\n",
    "    outDataSource = outDriver.CreateDataSource(name)\n",
    "    outLayer = outDataSource.CreateLayer(name, srs, geom_type=ogr.wkbPolygon )\n",
    "\n",
    "    # Get the output Layer's Feature Definition\n",
    "    featureDefn = outLayer.GetLayerDefn()\n",
    "\n",
    "    # create a new feature\n",
    "    outFeature = ogr.Feature(featureDefn)\n",
    "\n",
    "    # Set new geometry\n",
    "    outFeature.SetGeometry(poly)\n",
    "\n",
    "    # Add new feature to output Layer\n",
    "    outLayer.CreateFeature(outFeature)\n",
    "\n",
    "    # dereference the feature\n",
    "    outFeature = None\n",
    "\n",
    "    # Save and close DataSources\n",
    "    outDataSource = None\n",
    "    \n",
    "    return None"
   ]
  },
  {
   "cell_type": "markdown",
   "metadata": {},
   "source": [
    "Secondly we will read in our Raster dataset and extract the information about its projection & extents"
   ]
  },
  {
   "cell_type": "code",
   "execution_count": 3,
   "metadata": {},
   "outputs": [],
   "source": [
    "def read_raster(raster_in):\t\n",
    "    ## Open raster_in as ds (abbreviation for dataset)\n",
    "    ds=gdal.Open(raster_in)\n",
    "    \n",
    "    ## Get the projection of the raster and print out its EPSG code\n",
    "    prj=ds.GetProjection()\n",
    "    srs=osr.SpatialReference(wkt=prj)\n",
    "    print (\"EPSG code: \", srs.GetAttrValue('authority', 1))\n",
    "\n",
    "    ## using GetGeoTransform we can get the upper left X and upper left y coordinates\n",
    "    ulx, xres, xskew, uly, yskew, yres  = ds.GetGeoTransform()\n",
    "    \n",
    "    ## Calculate lower right x and lower right y we have the coordinates to build a polygon\n",
    "    ## these values will be returned and be inputs into build bounds\n",
    "    lrx = ulx + (ds.RasterXSize * xres)\n",
    "    lry = uly + (ds.RasterYSize * yres)\n",
    "\n",
    "    ## rows and columns of the imagery (if needed)\n",
    "    cols = ds.RasterXSize\n",
    "    rows = ds.RasterYSize\n",
    "\n",
    "    ## print it all out to command line\n",
    "    print (\"Number of columns: \" + str(cols))\n",
    "    print (\"Number of rows: \" + str(rows))\n",
    "\n",
    "    print (\"___\")\n",
    "    print (\"upper left x, upper left y, lower right x, lower right y:\")\n",
    "    print (ulx)\n",
    "    print (uly)\n",
    "    print (lrx)\n",
    "    print (lry)\n",
    "\n",
    "    coords = [(ulx,lry), (ulx,uly), (lrx,uly), (lrx,lry)]\n",
    "\n",
    "    print (\"coords\")\n",
    "    print (coords)\n",
    "    return coords, srs"
   ]
  },
  {
   "cell_type": "code",
   "execution_count": 5,
   "metadata": {},
   "outputs": [
    {
     "name": "stdout",
     "output_type": "stream",
     "text": [
      "EPSG code:  32630\n",
      "Number of columns: 1830\n",
      "Number of rows: 1830\n",
      "___\n",
      "upper left x, upper left y, lower right x, lower right y:\n",
      "600000.0\n",
      "5700000.0\n",
      "709800.0\n",
      "5590200.0\n",
      "coords\n",
      "[(600000.0, 5590200.0), (600000.0, 5700000.0), (709800.0, 5700000.0), (709800.0, 5590200.0)]\n"
     ]
    }
   ],
   "source": [
    "### lets call the functions\n",
    "image = \".../output_images/L2A_T30UXB_20170102T111442_TCI_60m.jp2\" ## this is a level2a Sentinel 2a image @60m, true colour RGB\n",
    "coords, srs = read_raster(image)"
   ]
  },
  {
   "cell_type": "code",
   "execution_count": 6,
   "metadata": {},
   "outputs": [
    {
     "name": "stdout",
     "output_type": "stream",
     "text": [
      "creating poly\n"
     ]
    }
   ],
   "source": [
    "## lets now build a geojson file for the footprint\n",
    "\n",
    "## specify the directory to write\n",
    "os.chdir('.../output_images') ## specifiy your output directory\n",
    "\n",
    "## specifiy the name of the geojson file to write to\n",
    "name = 'L2A_T30UXB_20170102T111442_TCI_60m_boundry.geojson'\n",
    "\n",
    "## call the first function passing in coords, srs (projection) and the output name\n",
    "build_bounds(coords, srs, name)"
   ]
  },
  {
   "cell_type": "code",
   "execution_count": null,
   "metadata": {
    "collapsed": true
   },
   "outputs": [],
   "source": []
  }
 ],
 "metadata": {
  "kernelspec": {
   "display_name": "Python 3",
   "language": "python",
   "name": "python3"
  },
  "language_info": {
   "codemirror_mode": {
    "name": "ipython",
    "version": 3
   },
   "file_extension": ".py",
   "mimetype": "text/x-python",
   "name": "python",
   "nbconvert_exporter": "python",
   "pygments_lexer": "ipython3",
   "version": "3.6.7"
  }
 },
 "nbformat": 4,
 "nbformat_minor": 2
}
